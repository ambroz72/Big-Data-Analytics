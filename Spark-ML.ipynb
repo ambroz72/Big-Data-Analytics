{
 "cells": [
  {
   "cell_type": "markdown",
   "id": "3622f38a",
   "metadata": {},
   "source": [
    "### Environment Setup"
   ]
  },
  {
   "cell_type": "code",
   "execution_count": 4,
   "id": "4438354f",
   "metadata": {},
   "outputs": [
    {
     "name": "stdout",
     "output_type": "stream",
     "text": [
      "Collecting findspark\n",
      "  Obtaining dependency information for findspark from https://files.pythonhosted.org/packages/a4/cb/7d2bb508f4ca00a043fd53e8156c11767799d3f534bf451a0942211d5def/findspark-2.0.1-py2.py3-none-any.whl.metadata\n",
      "  Downloading findspark-2.0.1-py2.py3-none-any.whl.metadata (352 bytes)\n",
      "Downloading findspark-2.0.1-py2.py3-none-any.whl (4.4 kB)\n",
      "Installing collected packages: findspark\n",
      "Successfully installed findspark-2.0.1\n",
      "Note: you may need to restart the kernel to use updated packages.\n"
     ]
    }
   ],
   "source": [
    "%pip install findspark"
   ]
  },
  {
   "cell_type": "markdown",
   "id": "9aa4a176",
   "metadata": {},
   "source": [
    "###  Set up Spark in  local IDE: Jupyter Notebook"
   ]
  },
  {
   "cell_type": "code",
   "execution_count": 1,
   "id": "262ec2e7",
   "metadata": {},
   "outputs": [],
   "source": [
    "import os\n",
    "import findspark\n",
    "\n",
    "os.environ[\"SPARK_HOME\"] = \"C:\\\\spark\" \n",
    "findspark.init()\n",
    "\n",
    "from pyspark.sql import SparkSession\n",
    "spark = SparkSession.builder.appName(\"Retail Big Data Assignment\").getOrCreate()"
   ]
  },
  {
   "cell_type": "markdown",
   "id": "308e00c3",
   "metadata": {},
   "source": [
    "### Load  Dataset"
   ]
  },
  {
   "cell_type": "code",
   "execution_count": 48,
   "id": "96ae4c9a",
   "metadata": {},
   "outputs": [],
   "source": [
    "# Load datasets\n",
    "retail = spark.read.csv(\"retailstore_large.csv\", header=True, inferSchema=True)\n",
    "customers = spark.read.csv(\"store_customers.csv\", header=True, inferSchema=True)\n",
    "transactions = spark.read.csv(\"store_transactions.csv\", header=True, inferSchema=True)"
   ]
  },
  {
   "cell_type": "code",
   "execution_count": 49,
   "id": "3672773c",
   "metadata": {},
   "outputs": [
    {
     "name": "stdout",
     "output_type": "stream",
     "text": [
      "Retail Dataset:\n",
      "+----------+----+------+------+-------+\n",
      "|CustomerID| Age|Salary|Gender|Country|\n",
      "+----------+----+------+------+-------+\n",
      "|         1|18.0| 20000|  Male|Germany|\n",
      "|         2|19.0| 22000|Female| France|\n",
      "|         3|20.0| 24000|Female|England|\n",
      "|         4|21.0|  2600|  Male|England|\n",
      "|         5|22.0| 50000|  Male| France|\n",
      "+----------+----+------+------+-------+\n",
      "only showing top 5 rows\n",
      "\n",
      "Customers Dataset:\n",
      "+----------+---+------+------+-------+\n",
      "|CustomerID|Age|Salary|Gender|Country|\n",
      "+----------+---+------+------+-------+\n",
      "|         1| 72| 20000|  Male|Germany|\n",
      "|         2| 72| 22000|Female| France|\n",
      "|         3| 70| 24000|Female|England|\n",
      "|         4| 75|  2600|  Male|England|\n",
      "|         5| 33| 50000|  Male| France|\n",
      "+----------+---+------+------+-------+\n",
      "only showing top 5 rows\n",
      "\n",
      "Transactions Dataset:\n",
      "+----------+---------+------+----------+\n",
      "|CustomerID|ProductID|Amount|      Date|\n",
      "+----------+---------+------+----------+\n",
      "|      3427|        3|  7541|22-11-2019|\n",
      "|      4378|       14|  7271|15-12-2019|\n",
      "|      3751|       47|  4276|20-11-2019|\n",
      "|      6899|      146|  8923|22-11-2019|\n",
      "|      4561|       46|  4891|30-11-2019|\n",
      "+----------+---------+------+----------+\n",
      "only showing top 5 rows\n",
      "\n"
     ]
    }
   ],
   "source": [
    "# Show first 5 rows of each\n",
    "print(\"Retail Dataset:\")\n",
    "retail.show(5)\n",
    "\n",
    "print(\"Customers Dataset:\")\n",
    "customers.show(5)\n",
    "\n",
    "print(\"Transactions Dataset:\")\n",
    "transactions.show(5)"
   ]
  },
  {
   "cell_type": "markdown",
   "id": "fc3e9b2c",
   "metadata": {},
   "source": [
    "### Data Processing Using Spark"
   ]
  },
  {
   "cell_type": "code",
   "execution_count": 51,
   "id": "b2de5bf1",
   "metadata": {},
   "outputs": [
    {
     "name": "stdout",
     "output_type": "stream",
     "text": [
      "Null values in 'retail' DataFrame:\n",
      "+----------+---+------+------+-------+\n",
      "|CustomerID|Age|Salary|Gender|Country|\n",
      "+----------+---+------+------+-------+\n",
      "|         0|  0|     0|     0|      0|\n",
      "+----------+---+------+------+-------+\n",
      "\n",
      "Null values in 'customers' DataFrame:\n",
      "+----------+---+------+------+-------+\n",
      "|CustomerID|Age|Salary|Gender|Country|\n",
      "+----------+---+------+------+-------+\n",
      "|         0|  0|     0|     0|      0|\n",
      "+----------+---+------+------+-------+\n",
      "\n",
      "Null values in 'transactions' DataFrame:\n",
      "+----------+---+------+------+-------+\n",
      "|CustomerID|Age|Salary|Gender|Country|\n",
      "+----------+---+------+------+-------+\n",
      "|         0|  0|     0|     0|      0|\n",
      "+----------+---+------+------+-------+\n",
      "\n",
      "Number of duplicate rows in 'retail' DataFrame: 0\n",
      "Number of duplicate rows in 'customers' DataFrame: 0\n",
      "Number of duplicate rows in 'transactions' DataFrame: 0\n"
     ]
    }
   ],
   "source": [
    "from pyspark.sql.functions import col, sum, when\n",
    "\n",
    "# Function to count nulls in each column of a DataFrame\n",
    "def count_nulls(df, df_name):\n",
    "    print(f\"Null values in '{df_name}' DataFrame:\")\n",
    "    df.select([sum(when(col(c).isNull(), 1).otherwise(0)).alias(c) for c in df.columns]).show()\n",
    "\n",
    "# Function to count duplicate rows in a DataFrame\n",
    "def count_duplicates(df, df_name):\n",
    "    duplicate_count = df.groupBy(df.columns).count().filter(\"count > 1\").count()\n",
    "    print(f\"Number of duplicate rows in '{df_name}' DataFrame: {duplicate_count}\")\n",
    "\n",
    "# Check nulls\n",
    "count_nulls(retail, \"retail\")\n",
    "count_nulls(customers, \"customers\")\n",
    "count_nulls(retail, \"transactions\")\n",
    "\n",
    "# Check duplicates\n",
    "count_duplicates(retail, \"retail\")\n",
    "count_duplicates(customers, \"customers\")\n",
    "count_duplicates(retail, \"transactions\")"
   ]
  },
  {
   "cell_type": "markdown",
   "id": "40b9f786",
   "metadata": {},
   "source": [
    "### Join Datasets"
   ]
  },
  {
   "cell_type": "code",
   "execution_count": 50,
   "id": "a30974c3",
   "metadata": {},
   "outputs": [
    {
     "name": "stdout",
     "output_type": "stream",
     "text": [
      "root\n",
      " |-- CustomerID: integer (nullable = true)\n",
      " |-- ProductID: integer (nullable = true)\n",
      " |-- Amount: integer (nullable = true)\n",
      " |-- Date: string (nullable = true)\n",
      " |-- Age: integer (nullable = true)\n",
      " |-- Salary: integer (nullable = true)\n",
      " |-- Gender: string (nullable = true)\n",
      " |-- Country: string (nullable = true)\n",
      "\n",
      "+----------+---------+------+----------+---+------+------+-------+\n",
      "|CustomerID|ProductID|Amount|      Date|Age|Salary|Gender|Country|\n",
      "+----------+---------+------+----------+---+------+------+-------+\n",
      "|      3427|        3|  7541|22-11-2019| 69| 14300|Female|England|\n",
      "|      4378|       14|  7271|15-12-2019| 78| 42000|  Male|Germany|\n",
      "|      3751|       47|  4276|20-11-2019| 57| 45000|Female|England|\n",
      "|      6899|      146|  8923|22-11-2019| 34| 12600|  Male|Germany|\n",
      "|      4561|       46|  4891|30-11-2019| 37| 50000|Female|Germany|\n",
      "+----------+---------+------+----------+---+------+------+-------+\n",
      "only showing top 5 rows\n",
      "\n"
     ]
    }
   ],
   "source": [
    "# Correct join between transactions and customers\n",
    "df = transactions.join(customers, on=\"CustomerID\", how=\"inner\")\n",
    "\n",
    "df.printSchema()\n",
    "df.show(5)"
   ]
  },
  {
   "cell_type": "markdown",
   "id": "56c992d3",
   "metadata": {},
   "source": [
    "### Create a Temp View and Run SQL"
   ]
  },
  {
   "cell_type": "code",
   "execution_count": 53,
   "id": "29a9db99",
   "metadata": {},
   "outputs": [],
   "source": [
    "# Register DataFrame as a Hive-compatible table\n",
    "df.createOrReplaceTempView(\"retail_data\")"
   ]
  },
  {
   "cell_type": "markdown",
   "id": "a117d7a9",
   "metadata": {},
   "source": [
    "#### HiveQL Query 1: Total sales by country"
   ]
  },
  {
   "cell_type": "code",
   "execution_count": 62,
   "id": "e863ec43",
   "metadata": {},
   "outputs": [
    {
     "name": "stdout",
     "output_type": "stream",
     "text": [
      "✅ Total Sales by Country\n",
      "+-------+----------+\n",
      "|Country|TotalSales|\n",
      "+-------+----------+\n",
      "|England| 230855023|\n",
      "| France| 145868556|\n",
      "|Germany| 134377551|\n",
      "+-------+----------+\n",
      "\n"
     ]
    }
   ],
   "source": [
    "print(\"✅ Total Sales by Country\")\n",
    "spark.sql(\"\"\"\n",
    "    SELECT Country, SUM(Amount) AS TotalSales\n",
    "    FROM retail_data\n",
    "    GROUP BY Country\n",
    "    ORDER BY TotalSales DESC\n",
    "\"\"\").show()"
   ]
  },
  {
   "cell_type": "markdown",
   "id": "4d8bcb50",
   "metadata": {},
   "source": [
    "#### HiveQL Query 2: Month-wise Sales Trend in 2019"
   ]
  },
  {
   "cell_type": "code",
   "execution_count": 61,
   "id": "ebd5000e",
   "metadata": {},
   "outputs": [
    {
     "name": "stdout",
     "output_type": "stream",
     "text": [
      "✅ Month-wise Sales Trend\n",
      "+-------+----------+\n",
      "|Month  |TotalSales|\n",
      "+-------+----------+\n",
      "|2019-11|219739916 |\n",
      "|2019-12|291361214 |\n",
      "+-------+----------+\n",
      "\n"
     ]
    }
   ],
   "source": [
    "from pyspark.sql.functions import to_date, date_format\n",
    "\n",
    "# Parse date string to DateType first\n",
    "df = df.withColumn(\"Date\", to_date(\"Date\", \"dd-MM-yyyy\"))\n",
    "\n",
    "# Then extract Year-Month for grouping\n",
    "df = df.withColumn(\"Month\", date_format(\"Date\", \"yyyy-MM\"))\n",
    "\n",
    "# Re-register temp view with updated column\n",
    "df.createOrReplaceTempView(\"retail_data\")\n",
    "\n",
    "print(\"✅ Month-wise Sales Trend\")\n",
    "spark.sql(\"\"\"\n",
    "    SELECT Month, SUM(Amount) AS TotalSales\n",
    "    FROM retail_data\n",
    "    WHERE Month IS NOT NULL\n",
    "    GROUP BY Month\n",
    "    ORDER BY Month\n",
    "\"\"\").show(truncate=False)\n"
   ]
  },
  {
   "cell_type": "markdown",
   "id": "0fd385ce",
   "metadata": {},
   "source": [
    "####  HiveQL Query 3: Gender-wise transaction count"
   ]
  },
  {
   "cell_type": "code",
   "execution_count": 58,
   "id": "648771d9",
   "metadata": {},
   "outputs": [
    {
     "name": "stdout",
     "output_type": "stream",
     "text": [
      "Transaction Count by Gender\n",
      "+------+----------------+\n",
      "|Gender|TransactionCount|\n",
      "+------+----------------+\n",
      "|Female|           49524|\n",
      "|  Male|           52985|\n",
      "+------+----------------+\n",
      "\n"
     ]
    }
   ],
   "source": [
    "print(\"Transaction Count by Gender\")\n",
    "spark.sql(\"\"\"\n",
    "    SELECT Gender, COUNT(*) AS TransactionCount\n",
    "    FROM retail_data\n",
    "    GROUP BY Gender\n",
    "\"\"\").show()"
   ]
  },
  {
   "cell_type": "markdown",
   "id": "b25ad686",
   "metadata": {},
   "source": [
    "#### HiveQL Query 4: Top 5 high-value customers"
   ]
  },
  {
   "cell_type": "code",
   "execution_count": 59,
   "id": "3a67da16",
   "metadata": {},
   "outputs": [
    {
     "name": "stdout",
     "output_type": "stream",
     "text": [
      "Top 5 Customers by Total Spending\n",
      "+----------+----------+\n",
      "|CustomerID|TotalSpent|\n",
      "+----------+----------+\n",
      "|      5293|    170384|\n",
      "|      5535|    157920|\n",
      "|      4201|    156737|\n",
      "|      1293|    154980|\n",
      "|      1087|    150911|\n",
      "+----------+----------+\n",
      "\n"
     ]
    }
   ],
   "source": [
    "print(\"Top 5 Customers by Total Spending\")\n",
    "spark.sql(\"\"\"\n",
    "    SELECT CustomerID, SUM(Amount) AS TotalSpent\n",
    "    FROM retail_data\n",
    "    GROUP BY CustomerID\n",
    "    ORDER BY TotalSpent DESC\n",
    "    LIMIT 5\n",
    "\"\"\").show()"
   ]
  },
  {
   "cell_type": "markdown",
   "id": "c52e396e",
   "metadata": {},
   "source": [
    "### ML Model: Predicting High-Spending Customers"
   ]
  },
  {
   "cell_type": "markdown",
   "id": "9383de3d",
   "metadata": {},
   "source": [
    "divide high and low spending customers by setting a threshold on the Amount field, e.g., Amount > 5000 for high spending and <= 5000 for low spending."
   ]
  },
  {
   "cell_type": "code",
   "execution_count": 189,
   "id": "69849670",
   "metadata": {},
   "outputs": [],
   "source": [
    "from pyspark.sql.functions import when\n",
    "from pyspark.ml.feature import StringIndexer, VectorAssembler\n",
    "from pyspark.ml.classification import RandomForestClassifier\n",
    "from pyspark.ml.evaluation import MulticlassClassificationEvaluator, BinaryClassificationEvaluator\n",
    "\n",
    "#  Create label column\n",
    "df_ml = df.withColumn(\"label\", when(df.Amount > 5000, 1).otherwise(0))\n",
    "\n",
    "#  Encode categorical feature\n",
    "df_ml = StringIndexer(inputCol=\"Gender\", outputCol=\"GenderIndex\").fit(df_ml).transform(df_ml)\n",
    "\n",
    "#  Assemble features\n",
    "assembler = VectorAssembler(\n",
    "    inputCols=[\"Age\", \"Salary\", \"GenderIndex\"],\n",
    "    outputCol=\"features\"\n",
    ")\n",
    "data = assembler.transform(df_ml).select(\"features\", \"label\")"
   ]
  },
  {
   "cell_type": "markdown",
   "id": "68b8e779",
   "metadata": {},
   "source": [
    "### Train-Test Split & Model Training"
   ]
  },
  {
   "cell_type": "code",
   "execution_count": 198,
   "id": "671ae54a",
   "metadata": {},
   "outputs": [],
   "source": [
    "train_data, test_data = data.randomSplit([0.8, 0.2], seed=42)"
   ]
  },
  {
   "cell_type": "code",
   "execution_count": 199,
   "id": "b7c1e144",
   "metadata": {
    "scrolled": true
   },
   "outputs": [
    {
     "name": "stdout",
     "output_type": "stream",
     "text": [
      "First 5 rows of the training data:\n",
      "+-----------------+-----+\n",
      "|         features|label|\n",
      "+-----------------+-----+\n",
      "|[20.0,7600.0,0.0]|    0|\n",
      "|[20.0,7600.0,0.0]|    0|\n",
      "|[20.0,7600.0,0.0]|    0|\n",
      "|[20.0,7600.0,0.0]|    0|\n",
      "|[20.0,7600.0,0.0]|    0|\n",
      "+-----------------+-----+\n",
      "only showing top 5 rows\n",
      "\n",
      "First 5 rows of the testing data:\n",
      "+-----------------+-----+\n",
      "|         features|label|\n",
      "+-----------------+-----+\n",
      "|[20.0,7600.0,0.0]|    0|\n",
      "|[20.0,7600.0,0.0]|    1|\n",
      "|[20.0,7600.0,0.0]|    1|\n",
      "|[20.0,7600.0,0.0]|    1|\n",
      "|[20.0,7600.0,1.0]|    0|\n",
      "+-----------------+-----+\n",
      "only showing top 5 rows\n",
      "\n"
     ]
    }
   ],
   "source": [
    "print(\"First 5 rows of the training data:\")\n",
    "train_data.show(5)\n",
    "\n",
    "print(\"First 5 rows of the testing data:\")\n",
    "test_data.show(5)\n"
   ]
  },
  {
   "cell_type": "markdown",
   "id": "4c3a4875",
   "metadata": {},
   "source": [
    "### Decision Tree Model Implementation"
   ]
  },
  {
   "cell_type": "code",
   "execution_count": 197,
   "id": "c07925e4",
   "metadata": {},
   "outputs": [],
   "source": [
    "from pyspark.ml.classification import DecisionTreeClassifier\n",
    "\n",
    "dt = DecisionTreeClassifier(\n",
    "    labelCol=\"label\", \n",
    "    featuresCol=\"features\", \n",
    "    maxDepth=5, \n",
    "    minInstancesPerNode=20\n",
    ")\n",
    "\n",
    "dt_model = dt.fit(train_data)\n",
    "\n",
    "predictions = dt_model.transform(test_data)"
   ]
  },
  {
   "cell_type": "markdown",
   "id": "e5812150",
   "metadata": {},
   "source": [
    "### Evaluation (Accuracy, Precision, Recall, F1, ROC)"
   ]
  },
  {
   "cell_type": "code",
   "execution_count": 195,
   "id": "a15a6ddb",
   "metadata": {},
   "outputs": [
    {
     "name": "stdout",
     "output_type": "stream",
     "text": [
      "=== Decision Tree Classification Results ===\n",
      "Accuracy:  0.6973\n",
      "Precision: 0.6973\n",
      "Recall:    0.6973\n",
      "F1 Score:  0.5729\n",
      "ROC AUC:   0.5000\n"
     ]
    }
   ],
   "source": [
    "from pyspark.ml.evaluation import MulticlassClassificationEvaluator, BinaryClassificationEvaluator\n",
    "\n",
    "print(\"=== Decision Tree Classification Results ===\")\n",
    "\n",
    "evaluator = MulticlassClassificationEvaluator(labelCol=\"label\", predictionCol=\"prediction\")\n",
    "\n",
    "accuracy = evaluator.setMetricName(\"accuracy\").evaluate(predictions)\n",
    "precision = evaluator.setMetricName(\"precisionByLabel\").setMetricLabel(1).evaluate(predictions)\n",
    "recall = evaluator.setMetricName(\"recallByLabel\").setMetricLabel(1).evaluate(predictions)  # Fixed typo\n",
    "f1 = evaluator.setMetricName(\"f1\").evaluate(predictions)\n",
    "\n",
    "print(f\"Accuracy:  {accuracy:.4f}\")\n",
    "print(f\"Precision: {precision:.4f}\")\n",
    "print(f\"Recall:    {recall:.4f}\")\n",
    "print(f\"F1 Score:  {f1:.4f}\")\n",
    "\n",
    "# Binary Evaluator for AUC\n",
    "roc = BinaryClassificationEvaluator(labelCol=\"label\", rawPredictionCol=\"rawPrediction\", metricName=\"areaUnderROC\")\n",
    "auc = roc.evaluate(predictions)\n",
    "print(f\"ROC AUC:   {auc:.4f}\")"
   ]
  },
  {
   "cell_type": "markdown",
   "id": "28d5d6ab",
   "metadata": {},
   "source": [
    "### Confusion matrix"
   ]
  },
  {
   "cell_type": "code",
   "execution_count": 144,
   "id": "ac244d31",
   "metadata": {},
   "outputs": [
    {
     "data": {
      "image/png": "[encoded data removed]",
      "text/plain": [
       "<Figure size 640x480 with 2 Axes>"
      ]
     },
     "metadata": {},
     "output_type": "display_data"
    }
   ],
   "source": [
    "import pandas as pd\n",
    "import seaborn as sns\n",
    "import matplotlib.pyplot as plt\n",
    "from sklearn.metrics import confusion_matrix\n",
    "\n",
    "# Convert to pandas\n",
    "cm = dt_predictions.select(\"label\", \"prediction\").toPandas()\n",
    "\n",
    "# Force all labels to appear\n",
    "labels = [0, 1]\n",
    "cf_matrix = confusion_matrix(cm['label'], cm['prediction'], labels=labels)\n",
    "\n",
    "# Plot\n",
    "sns.heatmap(cf_matrix, annot=True, fmt='d', cmap='Blues', xticklabels=labels, yticklabels=labels)\n",
    "plt.xlabel(\"Predicted\")\n",
    "plt.ylabel(\"Actual\")\n",
    "plt.title(\"Confusion Matrix\")\n",
    "plt.show()"
   ]
  },
  {
   "cell_type": "markdown",
   "id": "54a75c22",
   "metadata": {},
   "source": [
    "### Feature importance"
   ]
  },
  {
   "cell_type": "code",
   "execution_count": 140,
   "id": "6c1f4a02",
   "metadata": {
    "scrolled": true
   },
   "outputs": [
    {
     "data": {
      "image/png": "[encoded data removed]",
      "text/plain": [
       "<Figure size 640x480 with 1 Axes>"
      ]
     },
     "metadata": {},
     "output_type": "display_data"
    }
   ],
   "source": [
    "import matplotlib.pyplot as plt\n",
    "\n",
    "# Feature importance\n",
    "importances = rf_model.featureImportances.toArray()\n",
    "features = [\"Age\", \"Salary\", \"GenderIndex\"]\n",
    "\n",
    "plt.barh(features, importances)\n",
    "plt.title(\"Feature Importances\")\n",
    "plt.xlabel(\"Importance\")\n",
    "plt.show()"
   ]
  },
  {
   "cell_type": "markdown",
   "id": "8810c7c0",
   "metadata": {},
   "source": [
    "### AUC-ROC Curve"
   ]
  },
  {
   "cell_type": "code",
   "execution_count": 147,
   "id": "0a36381f",
   "metadata": {},
   "outputs": [],
   "source": [
    "# Extract the probability of class 1 from the probability vector\n",
    "from pyspark.sql.functions import col, udf\n",
    "from pyspark.sql.types import DoubleType\n",
    "\n",
    "# UDF to extract class-1 probability\n",
    "get_prob = udf(lambda v: float(v[1]), DoubleType())\n",
    "preds = predictions.withColumn(\"probability_1\", get_prob(col(\"probability\")))\n"
   ]
  },
  {
   "cell_type": "code",
   "execution_count": 148,
   "id": "8fafe64b",
   "metadata": {},
   "outputs": [],
   "source": [
    "# Convert to Pandas\n",
    "roc_data = preds.select(\"probability_1\", \"label\").toPandas()"
   ]
  },
  {
   "cell_type": "code",
   "execution_count": 149,
   "id": "15d64aec",
   "metadata": {},
   "outputs": [
    {
     "data": {
      "image/png": "[encoded data removed]",
      "text/plain": [
       "<Figure size 800x600 with 1 Axes>"
      ]
     },
     "metadata": {},
     "output_type": "display_data"
    }
   ],
   "source": [
    "from sklearn.metrics import roc_curve, auc\n",
    "import matplotlib.pyplot as plt\n",
    "\n",
    "fpr, tpr, thresholds = roc_curve(roc_data['label'], roc_data['probability_1'])\n",
    "roc_auc = auc(fpr, tpr)\n",
    "\n",
    "# Plot ROC\n",
    "plt.figure(figsize=(8, 6))\n",
    "plt.plot(fpr, tpr, color='blue', lw=2, label=f'ROC Curve (AUC = {roc_auc:.2f})')\n",
    "plt.plot([0, 1], [0, 1], color='gray', linestyle='--')\n",
    "plt.xlabel(\"False Positive Rate\")\n",
    "plt.ylabel(\"True Positive Rate\")\n",
    "plt.title(\"AUC-ROC Curve\")\n",
    "plt.legend(loc=\"lower right\")\n",
    "plt.grid(True)\n",
    "plt.show()\n"
   ]
  }
 ],
 "metadata": {
  "kernelspec": {
   "display_name": "Python 3 (ipykernel)",
   "language": "python",
   "name": "python3"
  },
  "language_info": {
   "codemirror_mode": {
    "name": "ipython",
    "version": 3
   },
   "file_extension": ".py",
   "mimetype": "text/x-python",
   "name": "python",
   "nbconvert_exporter": "python",
   "pygments_lexer": "ipython3",
   "version": "3.11.4"
  }
 },
 "nbformat": 4,
 "nbformat_minor": 5
}
